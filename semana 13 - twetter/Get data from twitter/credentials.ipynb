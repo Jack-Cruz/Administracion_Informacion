{
 "metadata": {
  "language_info": {
   "codemirror_mode": {
    "name": "ipython",
    "version": 3
   },
   "file_extension": ".py",
   "mimetype": "text/x-python",
   "name": "python",
   "nbconvert_exporter": "python",
   "pygments_lexer": "ipython3",
   "version": "3.9.5"
  },
  "orig_nbformat": 4,
  "kernelspec": {
   "name": "python3",
   "display_name": "Python 3.9.5 64-bit"
  },
  "interpreter": {
   "hash": "25bf1dab56f13e21d80318cd5e789e076f92a14fa9924f370a2a818164c863f4"
  }
 },
 "nbformat": 4,
 "nbformat_minor": 2,
 "cells": [
  {
   "cell_type": "code",
   "execution_count": 1,
   "metadata": {},
   "outputs": [],
   "source": [
    "CONSUMER_KEY = \"CKqyHGMhh5xGCYop2X2rFXxWk\"\n",
    "CONSUMER_SECRET = \"y8DZawvtEXtRWBHdEKsSJiaVUAyUveBbZqJvG2YEoSKvQNM8at\"\n",
    "ACCESS_TOKEN = \"1394447337943097344-JmEfw6RqwAdCfhg3nycRSg9Gu3Vn90\"\n",
    "ACCESS_SECRET = \"0RnEY6zH3FQGJlglwTKKfkXE7swBopU98qVk1Ly14Y5Ay\""
   ]
  },
  {
   "cell_type": "code",
   "execution_count": null,
   "metadata": {},
   "outputs": [],
   "source": []
  }
 ]
}